{
 "cells": [
  {
   "cell_type": "code",
   "execution_count": 8,
   "id": "be033036-b6c8-412c-a87e-b9460f7f15ee",
   "metadata": {},
   "outputs": [
    {
     "name": "stdout",
     "output_type": "stream",
     "text": [
      "              precision    recall  f1-score   support\n",
      "\n",
      "    negative       0.99      1.00      1.00       128\n",
      "     neutral       0.89      1.00      0.94       128\n",
      "    positive       1.00      0.87      0.93       129\n",
      "\n",
      "    accuracy                           0.96       385\n",
      "   macro avg       0.96      0.96      0.96       385\n",
      "weighted avg       0.96      0.96      0.96       385\n",
      "\n"
     ]
    }
   ],
   "source": [
    "import pandas as pd\n",
    "from sklearn.feature_extraction.text import TfidfVectorizer\n",
    "from sklearn.model_selection import train_test_split\n",
    "from sklearn.linear_model import LogisticRegression\n",
    "from sklearn.metrics import classification_report\n",
    "from imblearn.over_sampling import RandomOverSampler\n",
    "\n",
    "# Load data\n",
    "df = pd.read_csv(r\"fb_sentiment.csv\")\n",
    "\n",
    "# Map labels for clarity\n",
    "label_map = {'P': 'positive', 'N': 'negative', 'O': 'neutral'}\n",
    "df['Sentiment'] = df['Label'].map(label_map)\n",
    "\n",
    "# Features and labels\n",
    "X = df['FBPost']\n",
    "y = df['Sentiment']\n",
    "\n",
    "# Vectorize text\n",
    "vectorizer = TfidfVectorizer(ngram_range=(1, 2))\n",
    "X_vec = vectorizer.fit_transform(X)\n",
    "\n",
    "# Oversample minority classes\n",
    "ros = RandomOverSampler(random_state=42)\n",
    "X_resampled, y_resampled = ros.fit_resample(X_vec, y)\n",
    "\n",
    "# Split oversampled data\n",
    "X_train, X_test, y_train, y_test = train_test_split(\n",
    "    X_resampled, y_resampled, test_size=0.2, random_state=42, stratify=y_resampled)\n",
    "\n",
    "# Train model\n",
    "model = LogisticRegression(max_iter=1000)\n",
    "model.fit(X_train, y_train)\n",
    "\n",
    "# Predict and evaluate\n",
    "y_pred = model.predict(X_test)\n",
    "print(classification_report(y_test, y_pred))\n"
   ]
  }
 ],
 "metadata": {
  "kernelspec": {
   "display_name": "Python 3 (ipykernel)",
   "language": "python",
   "name": "python3"
  },
  "language_info": {
   "codemirror_mode": {
    "name": "ipython",
    "version": 3
   },
   "file_extension": ".py",
   "mimetype": "text/x-python",
   "name": "python",
   "nbconvert_exporter": "python",
   "pygments_lexer": "ipython3",
   "version": "3.12.7"
  }
 },
 "nbformat": 4,
 "nbformat_minor": 5
}
