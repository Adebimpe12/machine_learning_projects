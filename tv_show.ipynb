{
 "cells": [
  {
   "cell_type": "markdown",
   "id": "aa2b280d-01b4-4ac4-aec7-b8571d3e5c13",
   "metadata": {},
   "source": [
    "# Assignment\n",
    "    Using the TV_Show.csv dataset perform the following:\n",
    "    1. extract the \"Title coloumn\"\n",
    "    2. perform stop word operation\n",
    "    3. part of speech tagging operation\n",
    "    4. stemming words operationn"
   ]
  },
  {
   "cell_type": "code",
   "execution_count": 2,
   "id": "e961be42-61c2-4c7d-bad3-437f18b3d1af",
   "metadata": {},
   "outputs": [
    {
     "name": "stdout",
     "output_type": "stream",
     "text": [
      "   Unnamed: 0             Title  Year  Age  IMDb Rotten Tomatoes  Netflix  \\\n",
      "0           0      Breaking Bad  2008  18+   9.5             96%        1   \n",
      "1           1   Stranger Things  2016  16+   8.8             93%        1   \n",
      "2           2       Money Heist  2017  18+   8.4             91%        1   \n",
      "3           3          Sherlock  2010  16+   9.1             78%        1   \n",
      "4           4  Better Call Saul  2015  18+   8.7             97%        1   \n",
      "\n",
      "   Hulu  Prime Video  Disney+  type  \n",
      "0     0            0        0     1  \n",
      "1     0            0        0     1  \n",
      "2     0            0        0     1  \n",
      "3     0            0        0     1  \n",
      "4     0            0        0     1  \n"
     ]
    },
    {
     "name": "stderr",
     "output_type": "stream",
     "text": [
      "[nltk_data] Downloading package punkt to C:\\Users\\atade/nltk_data...\n",
      "[nltk_data]   Package punkt is already up-to-date!\n",
      "[nltk_data] Downloading package stopwords to\n",
      "[nltk_data]     C:\\Users\\atade/nltk_data...\n",
      "[nltk_data]   Package stopwords is already up-to-date!\n",
      "[nltk_data] Downloading package averaged_perceptron_tagger to\n",
      "[nltk_data]     C:\\Users\\atade/nltk_data...\n",
      "[nltk_data]   Package averaged_perceptron_tagger is already up-to-\n",
      "[nltk_data]       date!\n",
      "[nltk_data] Downloading package averaged_perceptron_tagger_eng to\n",
      "[nltk_data]     C:\\Users\\atade/nltk_data...\n",
      "[nltk_data]   Package averaged_perceptron_tagger_eng is already up-to-\n",
      "[nltk_data]       date!\n"
     ]
    },
    {
     "name": "stdout",
     "output_type": "stream",
     "text": [
      "Original Title: Breaking Bad\n",
      "Tokenized & Filtered: ['Breaking', 'Bad']\n",
      "POS Tags: [('Breaking', 'VBG'), ('Bad', 'NNP')]\n",
      "Stemmed Words: ['break', 'bad']\n",
      "\n",
      "Original Title: Stranger Things\n",
      "Tokenized & Filtered: ['Stranger', 'Things']\n",
      "POS Tags: [('Stranger', 'NNP'), ('Things', 'NNS')]\n",
      "Stemmed Words: ['stranger', 'thing']\n",
      "\n",
      "Original Title: Money Heist\n",
      "Tokenized & Filtered: ['Money', 'Heist']\n",
      "POS Tags: [('Money', 'NNP'), ('Heist', 'NNP')]\n",
      "Stemmed Words: ['money', 'heist']\n",
      "\n",
      "Original Title: Sherlock\n",
      "Tokenized & Filtered: ['Sherlock']\n",
      "POS Tags: [('Sherlock', 'NN')]\n",
      "Stemmed Words: ['sherlock']\n",
      "\n",
      "Original Title: Better Call Saul\n",
      "Tokenized & Filtered: ['Better', 'Call', 'Saul']\n",
      "POS Tags: [('Better', 'NNP'), ('Call', 'NNP'), ('Saul', 'NNP')]\n",
      "Stemmed Words: ['better', 'call', 'saul']\n",
      "\n"
     ]
    }
   ],
   "source": [
    "import pandas as pd\n",
    "import nltk\n",
    "from nltk import pos_tag\n",
    "from nltk.tag.perceptron import PerceptronTagger\n",
    "from nltk.tokenize import word_tokenize\n",
    "from nltk.corpus import stopwords\n",
    "from nltk.stem import PorterStemmer\n",
    "\n",
    "# Load the CSV file\n",
    "tv_show = pd.read_csv(\"tv_shows.csv\")\n",
    "\n",
    "# Display first few rows (optional)\n",
    "print(tv_show.head())\n",
    "\n",
    "# Extract the list of titles from your dataframe (change 'title' if needed)\n",
    "titles = tv_show['Title'].astype(str).tolist()\n",
    "\n",
    "# Download necessary NLTK data\n",
    "nltk.download('punkt')\n",
    "nltk.download('stopwords')\n",
    "nltk.download('averaged_perceptron_tagger')\n",
    "nltk.download('averaged_perceptron_tagger_eng')\n",
    "\n",
    "# 2. Remove stop words\n",
    "stop_words = set(stopwords.words('english'))\n",
    "titles_tokenized = [word_tokenize(title) for title in titles]  # Tokenize each title\n",
    "filtered_titles = [[word for word in title if word.lower() not in stop_words] for title in titles_tokenized]\n",
    "\n",
    "# 3. Perform Part of Speech (POS) tagging\n",
    "pos_tags = [pos_tag(title) for title in filtered_titles]\n",
    "\n",
    "# 4. Perform Stemming\n",
    "stemmer = PorterStemmer()\n",
    "stemmed_titles = [[stemmer.stem(word) for word in title] for title in filtered_titles]\n",
    "\n",
    "# Display results\n",
    "for i in range(5):  # Show first 5 titles\n",
    "    print(f\"Original Title: {titles[i]}\")\n",
    "    print(f\"Tokenized & Filtered: {filtered_titles[i]}\")\n",
    "    print(f\"POS Tags: {pos_tags[i]}\")\n",
    "    print(f\"Stemmed Words: {stemmed_titles[i]}\\n\")"
   ]
  },
  {
   "cell_type": "code",
   "execution_count": null,
   "id": "16b53fff-81ce-4c34-affd-bcbaeb7f5d2c",
   "metadata": {},
   "outputs": [],
   "source": []
  }
 ],
 "metadata": {
  "kernelspec": {
   "display_name": "Python 3 (ipykernel)",
   "language": "python",
   "name": "python3"
  },
  "language_info": {
   "codemirror_mode": {
    "name": "ipython",
    "version": 3
   },
   "file_extension": ".py",
   "mimetype": "text/x-python",
   "name": "python",
   "nbconvert_exporter": "python",
   "pygments_lexer": "ipython3",
   "version": "3.12.7"
  }
 },
 "nbformat": 4,
 "nbformat_minor": 5
}
